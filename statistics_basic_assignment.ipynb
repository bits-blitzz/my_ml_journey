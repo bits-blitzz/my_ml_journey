{
  "cells": [
    {
      "cell_type": "markdown",
      "metadata": {
        "id": "view-in-github",
        "colab_type": "text"
      },
      "source": [
        "<a href=\"https://colab.research.google.com/github/bits-blitzz/my_ml_journey/blob/main/statistics_basic_assignment.ipynb\" target=\"_parent\"><img src=\"https://colab.research.google.com/assets/colab-badge.svg\" alt=\"Open In Colab\"/></a>"
      ]
    },
    {
      "cell_type": "markdown",
      "id": "99740511-7e49-4051-a62c-23c9cbee3d3f",
      "metadata": {
        "id": "99740511-7e49-4051-a62c-23c9cbee3d3f"
      },
      "source": [
        "#### Q1.  Explain the different types of data (qualitative and quantitative) and provide examples of each. Discuss  nominal, ordinal, interval, and ratio scales.."
      ]
    },
    {
      "cell_type": "raw",
      "id": "81cadf65-1cd8-466c-a480-ef7aeeb6c2aa",
      "metadata": {
        "id": "81cadf65-1cd8-466c-a480-ef7aeeb6c2aa"
      },
      "source": [
        "Data : Data is raw facts and figures which is stored, measured and can be re-accessed.\n",
        "Different types of data :\n",
        "1. Qualitative Data: Data which cannot be measured numerically and describes qualities and characteristics are qualitative data. It is also called categorical data.\n",
        "   Example : Gender, Race, Ranking\n",
        "\n",
        "   Qualitative data can be classified in following categories :\n",
        "\n",
        "   a. Nominal Scale data : The type of data which do not have any order are nominal scale data.\n",
        "      Eg: Gender : Male, Female  .., Race . Here we cannot rank or order the data one above the other\n",
        "\n",
        "   b. Ordinal Scale data : The type of categorical data which have meaningful order and ranking but cannot be numerically compared are called ordinal                              scale data.\n",
        "      Eg: Ranking : 1st 2nd 3rd ... Grade : Excellent, V good. Here we can say 1st is above in ranking , also excellent is above that V good but we               cannot quantify it like Excellent is 5 times better than Vgood.\n",
        "\n",
        "2. Quantitative data : Data which can be measured numerically and quantitatively. Mathematical operations can be performed on this type of data.\n",
        "   Example: Whole number, price of vegetables.\n",
        "\n",
        "   Quantitative data can be classified in following categories :\n",
        "\n",
        "    a. Interval Scale Data : These are type of numerical data which are ordered but they do not have the zero starting point.\n",
        "       Eg: Temperature : 20°C,10°C ( These can be compared like the 20°C is 10°C more than 10°C but... it can't give statistics like the temperature in town A is twice of town B.\n",
        "\n",
        "    b. Ratio Scale Data : These are numerical data which are ordered as well as with zero starting point.\n",
        "       Eg Weight, Height etc\n",
        "\n",
        ""
      ]
    },
    {
      "cell_type": "markdown",
      "id": "66d3c800-5eaf-482d-904c-cea4c3739f9e",
      "metadata": {
        "id": "66d3c800-5eaf-482d-904c-cea4c3739f9e"
      },
      "source": [
        "#### Q2. What are the measures of central tendency, and when should you use each? Discuss the mean, median, and mode with examples and situations where each is appropriate."
      ]
    },
    {
      "cell_type": "raw",
      "id": "815632b8-fac5-4dac-bb90-d1d7fc2a4bd7",
      "metadata": {
        "id": "815632b8-fac5-4dac-bb90-d1d7fc2a4bd7"
      },
      "source": [
        "The tools we use to identify a single value which represents the whole data set is called measure of central tendency.\n",
        "Following are the measures of central tendency :\n",
        "          1. Mean : The sum of all numbers divided by total numbers is called Mean. Mean is used in case where no outliers are present because mean are                        affected by outliers. Eg: To find the average marks of students in a class.\n",
        "\n",
        "          2. Median : The median is the middle most data of the sample when the sample is sorted. It is not influenced by outliers as it is physical                          middle point. Eg: Housing price\n",
        "\n",
        "          3. Mode : The mode is most frequent data in the sample. It is generally used in categorical data. Eg: Most selling shoe size"
      ]
    },
    {
      "cell_type": "code",
      "execution_count": 1,
      "id": "e5dfbd56-5fc0-4e67-a3c2-8f7d15dbdbd7",
      "metadata": {
        "colab": {
          "base_uri": "https://localhost:8080/"
        },
        "id": "e5dfbd56-5fc0-4e67-a3c2-8f7d15dbdbd7",
        "outputId": "4601e60b-b048-48f4-d33f-ead6cafd9fd9"
      },
      "outputs": [
        {
          "output_type": "stream",
          "name": "stdout",
          "text": [
            "13.555555555555555\n",
            "7.0\n",
            "ModeResult(mode=np.int64(7), count=np.int64(2))\n"
          ]
        }
      ],
      "source": [
        "# MEAN\n",
        "a=[1,3,4,6,7,7,9,10,75]\n",
        "import numpy as np\n",
        "\n",
        "print(np.mean(a))\n",
        "\n",
        "\n",
        "#MEDIAN\n",
        "\n",
        "print(np.median(a))\n",
        "\n",
        "\n",
        "\n",
        "#MODE\n",
        "from scipy import stats\n",
        "print(stats.mode(a))\n",
        "\n"
      ]
    },
    {
      "cell_type": "markdown",
      "id": "e742e1a6-afff-4bf2-9847-5e8a1b197f55",
      "metadata": {
        "id": "e742e1a6-afff-4bf2-9847-5e8a1b197f55"
      },
      "source": [
        "#### Q3.  Explain the concept of dispersion. How do variance and standard deviation measure the spread of data?"
      ]
    },
    {
      "cell_type": "raw",
      "id": "6b6ecbf0-5631-47e2-8e70-1f6269b2ce70",
      "metadata": {
        "id": "6b6ecbf0-5631-47e2-8e70-1f6269b2ce70"
      },
      "source": [
        "Dispersion : Dispersion is the measure of how much the data points are away from the central values like mean or median. It tells us how the data is                 spread across the data set.\n",
        "\n",
        "Variance :  Variance is average of squared difference between each data points and mean . It is squared difference because in some dataset with                     negative and positive difference cancel out each other, hence we use squared difference to calculate variance.\n",
        "\n",
        "Standard Deviation : The square root of variance is standard deviation.It is expressed in the same units as the original data, making it easier to                           interpret."
      ]
    },
    {
      "cell_type": "code",
      "execution_count": 2,
      "id": "01f3f31f-382f-4b4b-b35e-755e0881a7a4",
      "metadata": {
        "colab": {
          "base_uri": "https://localhost:8080/"
        },
        "id": "01f3f31f-382f-4b4b-b35e-755e0881a7a4",
        "outputId": "6f576af8-bee3-4750-e616-9dfe22b4ab3c"
      },
      "outputs": [
        {
          "output_type": "execute_result",
          "data": {
            "text/plain": [
              "np.float64(479.13580246913574)"
            ]
          },
          "metadata": {},
          "execution_count": 2
        }
      ],
      "source": [
        "np.var(a)"
      ]
    },
    {
      "cell_type": "code",
      "execution_count": 3,
      "id": "c936e33f-f02d-48a5-971b-324b38b5a8f8",
      "metadata": {
        "colab": {
          "base_uri": "https://localhost:8080/"
        },
        "id": "c936e33f-f02d-48a5-971b-324b38b5a8f8",
        "outputId": "fa4689f2-78c7-4e69-aed7-c6928e84302e"
      },
      "outputs": [
        {
          "output_type": "execute_result",
          "data": {
            "text/plain": [
              "np.float64(21.88917089496849)"
            ]
          },
          "metadata": {},
          "execution_count": 3
        }
      ],
      "source": [
        "np.std(a)"
      ]
    },
    {
      "cell_type": "markdown",
      "id": "99b4037e-16f8-4bab-83ed-717a8d1dd1f0",
      "metadata": {
        "id": "99b4037e-16f8-4bab-83ed-717a8d1dd1f0"
      },
      "source": [
        "#### Q4. What is a box plot, and what can it tell you about the distribution of data?"
      ]
    },
    {
      "cell_type": "raw",
      "id": "607f5775-439c-48f7-b24f-309d65a2de39",
      "metadata": {
        "id": "607f5775-439c-48f7-b24f-309d65a2de39"
      },
      "source": [
        "A box plot or a whisker box plot is graphical tool used to summarize the distribution of data by dividing the data into quartiles. It displays the minimun, the Q1, median , Q3 and maximum. The range between Q3 and Q1 is interquartile range which helps in detectiong outliers.\n",
        "\n",
        "What it tells:\n",
        "a)The spread of the data\n",
        "\n",
        "b)The center of the data (median)\n",
        "\n",
        "c)Whether the data is skewed (based on symmetry of the box and whiskers)\n",
        "\n",
        "d)The presence of outliers"
      ]
    },
    {
      "cell_type": "code",
      "execution_count": 9,
      "id": "ed8be1a8-5371-4df8-807a-c7f0b7b8f035",
      "metadata": {
        "colab": {
          "base_uri": "https://localhost:8080/",
          "height": 452
        },
        "id": "ed8be1a8-5371-4df8-807a-c7f0b7b8f035",
        "outputId": "e393de69-0b83-42ef-e8a5-014ab7da8b89"
      },
      "outputs": [
        {
          "output_type": "display_data",
          "data": {
            "text/plain": [
              "<Figure size 640x480 with 1 Axes>"
            ],
            "image/png": "[encoded data removed]"
          },
          "metadata": {}
        }
      ],
      "source": [
        "import matplotlib.pyplot as plt\n",
        "\n",
        "data = [7, 8, 9, 15, 21, 22, 23, 25, 29, 36, 100]\n",
        "plt.boxplot(data)\n",
        "plt.title(\"Box Plot Example\")\n",
        "plt.show()\n"
      ]
    },
    {
      "cell_type": "markdown",
      "id": "6fda40fe-cbf0-4c72-8071-e6b45ee6f5f7",
      "metadata": {
        "id": "6fda40fe-cbf0-4c72-8071-e6b45ee6f5f7"
      },
      "source": [
        "#### Q5.  Discuss the role of random sampling in making inferences about populations"
      ]
    },
    {
      "cell_type": "raw",
      "id": "ba9cffb3-c0e0-4bb5-9e55-304892cd5f18",
      "metadata": {
        "id": "ba9cffb3-c0e0-4bb5-9e55-304892cd5f18"
      },
      "source": [
        "Random sampling is a fundamental technique in statistics used to select a subset (sample) from a larger group (population) in such a way that every member of the population has an equal chance of being chosen.\n",
        "A representative sample allows researchers to estimate population parameters (like the mean or proportion) accurately, without studying the entire population.\n",
        "\n",
        "Suppose a university wants to estimate the average GPA of its students. Instead of surveying all 20,000 students, they randomly select 500 students. If the sample is randomly chosen, the average GPA of those 500 can be used to estimate the population average with a known margin of error.\n",
        "\n",
        "By giving all individuals an equal chance of selection, random sampling minimizes selection bias."
      ]
    },
    {
      "cell_type": "markdown",
      "id": "42afc2f3-9fd3-4bb3-a7c4-c2a81e6acc3c",
      "metadata": {
        "id": "42afc2f3-9fd3-4bb3-a7c4-c2a81e6acc3c"
      },
      "source": [
        "#### Q6. Explain the concept of skewness and its types. How does skewness affect the interpretation of data?"
      ]
    },
    {
      "cell_type": "raw",
      "id": "2743084c-f124-4aac-85db-d92b7d961a8d",
      "metadata": {
        "id": "2743084c-f124-4aac-85db-d92b7d961a8d"
      },
      "source": [
        "Skewness is a measure of the asymmetry in the distribution of data.\n",
        "In a perfectly symmetrical distribution, the mean, median, and mode are all equal, and skewness is zero.\n",
        "If the data is not symmetric, it is said to be skewed—either to the left or to the right—depending on which side has the longer tail.\n",
        "\n",
        "Types of Skewness:\n",
        "\n",
        "1. Positive Skew (Right Skew) :\n",
        "a)The tail on the right side (higher values) is longer.\n",
        "b)Most data values are concentrated on the left.\n",
        "c)Mean > Median > Mode\n",
        "\n",
        "2. Negative Skew (Left Skew) :\n",
        "a)The tail on the left side (lower values) is longer.\n",
        "b)Most data values are concentrated on the right.\n",
        "c)Mean < Median < Mode\n",
        "\n",
        "3.Zero Skew (Symmetrical Distribution)\n",
        "a)The left and right sides of the distribution are mirror images.\n",
        "b)Mean = Median = Mode\n",
        "\n",
        "How Skewness Affects Interpretation :\n",
        "1. Skewness helps in choosing the right charts\n",
        "2. In skewed data, the mean is pulled toward the tail, so relying only on the mean can be misleading. The median is often a better measure of central tendency in skewed distributions.\n",
        "3. In few ML model High skewness may violate assumptions, requiring data transformation."
      ]
    },
    {
      "cell_type": "markdown",
      "id": "b2852ba2-a073-44f3-b4e1-2bdd9652e605",
      "metadata": {
        "id": "b2852ba2-a073-44f3-b4e1-2bdd9652e605"
      },
      "source": [
        "#### Q7. What is the interquartile range (IQR), and how is it used to detect outliers?"
      ]
    },
    {
      "cell_type": "raw",
      "id": "82dff3be-41a3-447e-bdf5-ab37084f08f9",
      "metadata": {
        "id": "82dff3be-41a3-447e-bdf5-ab37084f08f9"
      },
      "source": [
        "The interquartile range (IQR) is a measure of statistical dispersion—it describes the spread of the middle 50% of a dataset.\n",
        "IQR = Q3-Q1\n",
        "\n",
        "A data point is considered an outlier if it falls:\n",
        "\n",
        "Below:\n",
        "Q1−1.5×IQR\n",
        "\n",
        "Above:\n",
        "Q3+1.5×IQR\n",
        "\n",
        "\n",
        "Suppose your dataset is:\n",
        "[1, 3, 4, 5, 6, 7, 8, 9, 20]\n",
        "\n",
        "Q1 = 4\n",
        "\n",
        "Q3 = 8\n",
        "\n",
        "IQR = 8 - 4 = 4\n",
        "\n",
        "Outlier thresholds:\n",
        "\n",
        "Lower bound =\n",
        "4−1.5×4=−2\n",
        "\n",
        "Upper bound =\n",
        "8+1.5×4=14\n",
        "\n",
        "So, any value < -2 or > 14 is an outlier. In this case, 20 is an outlier."
      ]
    },
    {
      "cell_type": "markdown",
      "id": "9924706f-b455-49a2-9165-edc4b2537289",
      "metadata": {
        "id": "9924706f-b455-49a2-9165-edc4b2537289"
      },
      "source": [
        "#### Q8. Discuss the conditions under which the binomial distribution is used"
      ]
    },
    {
      "cell_type": "raw",
      "id": "f8e3b82c-334c-478c-b0f4-0ab66d968110",
      "metadata": {
        "id": "f8e3b82c-334c-478c-b0f4-0ab66d968110"
      },
      "source": [
        "1. Fixed Number of Trials (n)\n",
        "Example: Tossing a coin 10 times (n = 10).\n",
        "\n",
        "2. Each trial results in only two outcomes, typically called success and failure.\n",
        "Example: In a coin toss, \"heads\" could be success and \"tails\" failure.\n",
        "\n",
        "3. The outcome of one trial does not affect the outcome of any other trial.\n",
        "Example: One coin toss does not influence the next\n",
        "\n",
        "4. The probability of success must stay the same across all trials.\n",
        "Example: The probability of getting heads in a fair coin toss is always 0.5.\n"
      ]
    },
    {
      "cell_type": "markdown",
      "id": "8be2d873-92c7-44e4-820a-a8a78af881e6",
      "metadata": {
        "id": "8be2d873-92c7-44e4-820a-a8a78af881e6"
      },
      "source": [
        "#### Q9.  Explain the properties of the normal distribution and the empirical rule (68-95-99.7 rule)"
      ]
    },
    {
      "cell_type": "raw",
      "id": "6498f31e-20d3-47ac-bb87-fb4962fbe78d",
      "metadata": {
        "id": "6498f31e-20d3-47ac-bb87-fb4962fbe78d"
      },
      "source": [
        "Normal Distribution and the Empirical Rule (68-95-99.7 Rule):\n",
        "\n",
        "The normal distribution is a continuous probability distribution that is symmetric and bell-shaped. It is one of the most widely used distributions in statistics due to its natural occurrence in many real-world phenomena. The distribution is completely defined by two parameters: the mean (μ), which determines the center of the distribution, and the standard deviation (σ), which determines the spread or dispersion of the data.\n",
        "\n",
        "Key Properties of the Normal Distribution:\n",
        "1.It is symmetrical about the mean, meaning the left and right sides of the curve are mirror images.\n",
        "2.The mean, median, and mode are all equal and located at the center of the distribution.\n",
        "3.The total area under the curve is equal to 1, representing 100% of the probability.\n",
        "4.The curve is asymptotic, meaning it approaches but never touches the horizontal axis.\n",
        "5.The spread of the distribution is determined by the standard deviation; a larger standard deviation results in a wider curve.\n",
        "\n",
        "Empirical Rule (68-95-99.7 Rule):\n",
        "1.The empirical rule describes how data is distributed in a normal distribution:\n",
        "2.Approximately 68% of the data falls within one standard deviation (±1σ) of the mean.\n",
        "3.Approximately 95% of the data falls within two standard deviations (±2σ) of the mean.\n",
        "4.Approximately 99.7% of the data falls within three standard deviations (±3σ) of the mean."
      ]
    },
    {
      "cell_type": "markdown",
      "id": "2af44095-4ff0-4913-93a9-0ffaa56aae4d",
      "metadata": {
        "id": "2af44095-4ff0-4913-93a9-0ffaa56aae4d"
      },
      "source": [
        "#### Q10.  Provide a real-life example of a Poisson process and calculate the probability for a specific event."
      ]
    },
    {
      "cell_type": "raw",
      "id": "5b236844-17fc-4c77-b179-733989a567e3",
      "metadata": {
        "id": "5b236844-17fc-4c77-b179-733989a567e3"
      },
      "source": [
        "A Poisson process is a statistical model used to describe the number of events occurring within a fixed interval of time or space.\n",
        "It assumes:\n",
        "a)Events occur independently of one another.\n",
        "b)The rate (λ) of occurrence is constant over time.\n",
        "c)Two events cannot occur at exactly the same instant.\n",
        "\n",
        "Example ::\n",
        "\n",
        "Suppose a call center receives an average of 3 calls per minute. We can model this using a Poisson distribution with:\n",
        "\n",
        "𝜆\n",
        "=\n",
        "3\n",
        "λ=3 calls/minute\n",
        "\n",
        "We want to find the probability that exactly 5 calls are received in a one-minute interval."
      ]
    },
    {
      "cell_type": "code",
      "execution_count": 5,
      "id": "cd26b5a4-291c-4242-ac95-2821bd72ffa7",
      "metadata": {
        "colab": {
          "base_uri": "https://localhost:8080/"
        },
        "id": "cd26b5a4-291c-4242-ac95-2821bd72ffa7",
        "outputId": "c06b3514-18ea-4d48-abed-4416ffa01890"
      },
      "outputs": [
        {
          "output_type": "stream",
          "name": "stdout",
          "text": [
            "Probability of receiving exactly 5 calls in a minute: 0.1008\n"
          ]
        }
      ],
      "source": [
        "# Import required function\n",
        "from scipy.stats import poisson\n",
        "\n",
        "# Define parameters\n",
        "lambda_rate = 3   # average number of calls per minute\n",
        "k = 5             # number of calls we want the probability for\n",
        "\n",
        "# Calculate Poisson probability\n",
        "probability = poisson.pmf(k, lambda_rate)\n",
        "\n",
        "# Output the result\n",
        "print(f\"Probability of receiving exactly {k} calls in a minute: {probability:.4f}\")\n"
      ]
    },
    {
      "cell_type": "markdown",
      "id": "fd1a83dd-b46e-49e3-babf-9446fb6f883a",
      "metadata": {
        "id": "fd1a83dd-b46e-49e3-babf-9446fb6f883a"
      },
      "source": [
        "#### Q11. Explain what a random variable is and differentiate between discrete and continuous random variables?"
      ]
    },
    {
      "cell_type": "raw",
      "id": "426ba70d-e4ea-4cba-bfc1-14ae83b2161e",
      "metadata": {
        "id": "426ba70d-e4ea-4cba-bfc1-14ae83b2161e"
      },
      "source": [
        "What is Random Variable ?\n",
        "A random variable is a numerical value that represents the outcome of a random experiment. It maps outcomes from a sample space (set of all possible outcomes) to real numbers.\n",
        "\n",
        "Discrete random variables:\n",
        "A discrete random variable takes on a countable number of distinct values. These values are usually whole numbers, and there are gaps between them.\n",
        "Example :\n",
        "1.Number of students in a class\n",
        "2.Number of heads in 5 coin tosses\n",
        "3.Number of customer complaints in a day\n",
        "\n",
        "Continous random variables :\n",
        "A continuous random variable can take on any value within a given range. The number of possible values is infinite and uncountable.\n",
        "Example:\n",
        "1.Height of a person\n",
        "2.Temperature in a city\n",
        "3.Time taken to complete a task\n"
      ]
    },
    {
      "cell_type": "markdown",
      "id": "8f07a4ed-4722-4db6-9e82-a66f22ad9c3f",
      "metadata": {
        "id": "8f07a4ed-4722-4db6-9e82-a66f22ad9c3f"
      },
      "source": [
        "#### Q12.  Provide an example dataset, calculate both covariance and correlation, and interpret the results."
      ]
    },
    {
      "cell_type": "code",
      "execution_count": 6,
      "id": "331bb276-96e5-4617-9ca1-331c86341e6a",
      "metadata": {
        "colab": {
          "base_uri": "https://localhost:8080/"
        },
        "id": "331bb276-96e5-4617-9ca1-331c86341e6a",
        "outputId": "5ba1ef55-130c-42ac-df30-c1979c7826fb"
      },
      "outputs": [
        {
          "output_type": "stream",
          "name": "stdout",
          "text": [
            "   Math  Science\n",
            "0    65       60\n",
            "1    70       65\n",
            "2    75       70\n",
            "3    80       85\n",
            "4    85       90\n"
          ]
        }
      ],
      "source": [
        "import numpy as np\n",
        "import pandas as pd\n",
        "\n",
        "# Sample data\n",
        "math_scores = [65, 70, 75, 80, 85]\n",
        "science_scores = [60, 65, 70, 85, 90]\n",
        "\n",
        "# Create a DataFrame\n",
        "df = pd.DataFrame({\n",
        "    'Math': math_scores,\n",
        "    'Science': science_scores\n",
        "})\n",
        "\n",
        "# Display the dataset\n",
        "print(df)\n"
      ]
    },
    {
      "cell_type": "code",
      "execution_count": 7,
      "id": "7d1e68ee-6c15-476b-b99f-bd2e67f86e39",
      "metadata": {
        "colab": {
          "base_uri": "https://localhost:8080/"
        },
        "id": "7d1e68ee-6c15-476b-b99f-bd2e67f86e39",
        "outputId": "12d8948d-8ce6-44b8-eb25-fd0881162c9b"
      },
      "outputs": [
        {
          "output_type": "stream",
          "name": "stdout",
          "text": [
            "Covariance Matrix:\n",
            "          Math  Science\n",
            "Math      62.5    100.0\n",
            "Science  100.0    167.5\n",
            "\n",
            "Covariance between Math and Science: 100.00\n"
          ]
        }
      ],
      "source": [
        "# Covariance matrix\n",
        "cov_matrix = df.cov()\n",
        "print(\"Covariance Matrix:\")\n",
        "print(cov_matrix)\n",
        "\n",
        "# Extract covariance between Math and Science\n",
        "cov_math_science = cov_matrix.loc['Math', 'Science']\n",
        "print(f\"\\nCovariance between Math and Science: {cov_math_science:.2f}\")\n"
      ]
    },
    {
      "cell_type": "code",
      "execution_count": 8,
      "id": "496cf009-9447-45ad-b800-ee46725681d3",
      "metadata": {
        "colab": {
          "base_uri": "https://localhost:8080/"
        },
        "id": "496cf009-9447-45ad-b800-ee46725681d3",
        "outputId": "3a6e56fd-de22-4c92-c5bc-b12ee57a81bd"
      },
      "outputs": [
        {
          "output_type": "stream",
          "name": "stdout",
          "text": [
            "\n",
            "Correlation Matrix:\n",
            "             Math   Science\n",
            "Math     1.000000  0.977356\n",
            "Science  0.977356  1.000000\n",
            "\n",
            "Correlation between Math and Science: 0.98\n"
          ]
        }
      ],
      "source": [
        "# Correlation matrix\n",
        "corr_matrix = df.corr()\n",
        "print(\"\\nCorrelation Matrix:\")\n",
        "print(corr_matrix)\n",
        "\n",
        "# Extract correlation between Math and Science\n",
        "corr_math_science = corr_matrix.loc['Math', 'Science']\n",
        "print(f\"\\nCorrelation between Math and Science: {corr_math_science:.2f}\")\n"
      ]
    },
    {
      "cell_type": "raw",
      "id": "3104048d-3c0f-435e-8d82-24fec59884b1",
      "metadata": {
        "id": "3104048d-3c0f-435e-8d82-24fec59884b1"
      },
      "source": [
        "The covariance is positive, showing that Math and Science scores tend to increase together.\n",
        "\n",
        "The correlation will be close to +1, indicating a strong positive linear relationship between the two subjects."
      ]
    },
    {
      "cell_type": "code",
      "execution_count": 8,
      "id": "0bd8edb5-ee5a-431e-acdd-bb5ac1cc3833",
      "metadata": {
        "id": "0bd8edb5-ee5a-431e-acdd-bb5ac1cc3833"
      },
      "outputs": [],
      "source": []
    }
  ],
  "metadata": {
    "kernelspec": {
      "display_name": "Python 3 (ipykernel)",
      "language": "python",
      "name": "python3"
    },
    "language_info": {
      "codemirror_mode": {
        "name": "ipython",
        "version": 3
      },
      "file_extension": ".py",
      "mimetype": "text/x-python",
      "name": "python",
      "nbconvert_exporter": "python",
      "pygments_lexer": "ipython3",
      "version": "3.12.4"
    },
    "colab": {
      "provenance": [],
      "include_colab_link": true
    }
  },
  "nbformat": 4,
  "nbformat_minor": 5
}