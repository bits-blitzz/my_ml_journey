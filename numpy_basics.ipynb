{
 "cells": [
  {
   "cell_type": "markdown",
   "id": "ff3f728d-1365-4138-a05a-29556e583643",
   "metadata": {},
   "source": [
    "#### NUMPY\n"
   ]
  },
  {
   "cell_type": "code",
   "execution_count": 99,
   "id": "562fe468-0ed8-4cb0-b5e1-a1a4b1319880",
   "metadata": {},
   "outputs": [],
   "source": [
    "import numpy as np"
   ]
  },
  {
   "cell_type": "code",
   "execution_count": 3,
   "id": "050c01e1-34a8-4fe4-b818-3b8efc7bfb3b",
   "metadata": {},
   "outputs": [
    {
     "data": {
      "text/plain": [
       "'1.26.4'"
      ]
     },
     "execution_count": 3,
     "metadata": {},
     "output_type": "execute_result"
    }
   ],
   "source": [
    "np.__version__"
   ]
  },
  {
   "cell_type": "code",
   "execution_count": 4,
   "id": "e51df47a-a283-4f1d-9932-0d8b8807c7ff",
   "metadata": {},
   "outputs": [],
   "source": [
    "lis=[\"A\",\"B\",24,45.678,3+5j,True]"
   ]
  },
  {
   "cell_type": "code",
   "execution_count": 5,
   "id": "906729eb-25f7-4568-97ea-83619012ae58",
   "metadata": {},
   "outputs": [
    {
     "data": {
      "text/plain": [
       "['A', 'B', 24, 45.678, (3+5j), True]"
      ]
     },
     "execution_count": 5,
     "metadata": {},
     "output_type": "execute_result"
    }
   ],
   "source": [
    "lis"
   ]
  },
  {
   "cell_type": "code",
   "execution_count": 6,
   "id": "1363b004-5bb8-465e-9c97-6860d2afb6d2",
   "metadata": {},
   "outputs": [
    {
     "data": {
      "text/plain": [
       "list"
      ]
     },
     "execution_count": 6,
     "metadata": {},
     "output_type": "execute_result"
    }
   ],
   "source": [
    "type(lis)"
   ]
  },
  {
   "cell_type": "code",
   "execution_count": 7,
   "id": "122d5eac-3bed-40d2-b2c4-4a9ae1d85db8",
   "metadata": {},
   "outputs": [],
   "source": [
    "#Numpy stores data in numpy array"
   ]
  },
  {
   "cell_type": "code",
   "execution_count": 8,
   "id": "b82d0b49-807e-4c0a-b2a2-3ed40cd9db9d",
   "metadata": {},
   "outputs": [],
   "source": [
    "#Numpy array is homogenous \n",
    "# It can only store integer,float,string"
   ]
  },
  {
   "cell_type": "code",
   "execution_count": 10,
   "id": "1dd26ad8-ed94-44d1-889a-4176e8f09122",
   "metadata": {},
   "outputs": [],
   "source": [
    "l=[1,2,3,4,5]\n",
    "arr=np.array(l)"
   ]
  },
  {
   "cell_type": "code",
   "execution_count": 11,
   "id": "9fb698a8-9ad3-489d-b548-e84f2648292c",
   "metadata": {},
   "outputs": [
    {
     "data": {
      "text/plain": [
       "array([1, 2, 3, 4, 5])"
      ]
     },
     "execution_count": 11,
     "metadata": {},
     "output_type": "execute_result"
    }
   ],
   "source": [
    "arr"
   ]
  },
  {
   "cell_type": "code",
   "execution_count": 12,
   "id": "410a14e3-088f-4d57-85b6-a0a6bc7ade91",
   "metadata": {},
   "outputs": [
    {
     "data": {
      "text/plain": [
       "numpy.ndarray"
      ]
     },
     "execution_count": 12,
     "metadata": {},
     "output_type": "execute_result"
    }
   ],
   "source": [
    "type(arr)"
   ]
  },
  {
   "cell_type": "code",
   "execution_count": 13,
   "id": "88259a1f-10df-4725-b675-c712f66c3df5",
   "metadata": {},
   "outputs": [],
   "source": [
    "l=[1,2,3,4,\"Aman\"]"
   ]
  },
  {
   "cell_type": "code",
   "execution_count": 14,
   "id": "3b937376-72cd-424f-a751-325f1fade91d",
   "metadata": {},
   "outputs": [
    {
     "data": {
      "text/plain": [
       "array(['1', '2', '3', '4', 'Aman'], dtype='<U11')"
      ]
     },
     "execution_count": 14,
     "metadata": {},
     "output_type": "execute_result"
    }
   ],
   "source": [
    "np.array(l)"
   ]
  },
  {
   "cell_type": "code",
   "execution_count": 15,
   "id": "86e57f73-a65d-47f8-8531-026f8cd77909",
   "metadata": {},
   "outputs": [
    {
     "data": {
      "text/plain": [
       "array([1, 2, 3, 4, 5])"
      ]
     },
     "execution_count": 15,
     "metadata": {},
     "output_type": "execute_result"
    }
   ],
   "source": [
    "arr"
   ]
  },
  {
   "cell_type": "code",
   "execution_count": 16,
   "id": "ad564c85-95b2-43dc-b53d-022fb274264e",
   "metadata": {},
   "outputs": [
    {
     "data": {
      "text/plain": [
       "1"
      ]
     },
     "execution_count": 16,
     "metadata": {},
     "output_type": "execute_result"
    }
   ],
   "source": [
    "arr.ndim"
   ]
  },
  {
   "cell_type": "code",
   "execution_count": 17,
   "id": "9ec9565c-63f5-4958-b201-fa4d57ef7a45",
   "metadata": {},
   "outputs": [],
   "source": [
    "arr1=np.array([[2,3,4,5],[6,7,8,9]])"
   ]
  },
  {
   "cell_type": "code",
   "execution_count": 18,
   "id": "3e50340c-7e5b-41f0-9333-9237830098ee",
   "metadata": {},
   "outputs": [
    {
     "data": {
      "text/plain": [
       "array([[2, 3, 4, 5],\n",
       "       [6, 7, 8, 9]])"
      ]
     },
     "execution_count": 18,
     "metadata": {},
     "output_type": "execute_result"
    }
   ],
   "source": [
    "arr1"
   ]
  },
  {
   "cell_type": "code",
   "execution_count": 19,
   "id": "de175191-20bf-4281-b1dc-98d1eaa92ec5",
   "metadata": {},
   "outputs": [
    {
     "data": {
      "text/plain": [
       "2"
      ]
     },
     "execution_count": 19,
     "metadata": {},
     "output_type": "execute_result"
    }
   ],
   "source": [
    "arr1.ndim"
   ]
  },
  {
   "cell_type": "code",
   "execution_count": 20,
   "id": "59798c60-87d7-4974-b241-4239f24907a7",
   "metadata": {},
   "outputs": [],
   "source": [
    "arr_t=np.array([[2]])"
   ]
  },
  {
   "cell_type": "code",
   "execution_count": 21,
   "id": "70c639c2-b51d-4135-9628-1341899bb0ce",
   "metadata": {},
   "outputs": [
    {
     "data": {
      "text/plain": [
       "array([[2]])"
      ]
     },
     "execution_count": 21,
     "metadata": {},
     "output_type": "execute_result"
    }
   ],
   "source": [
    "arr_t"
   ]
  },
  {
   "cell_type": "code",
   "execution_count": 23,
   "id": "ce29a56d-ecce-4df2-8ad1-901e2c0153a9",
   "metadata": {},
   "outputs": [
    {
     "data": {
      "text/plain": [
       "2"
      ]
     },
     "execution_count": 23,
     "metadata": {},
     "output_type": "execute_result"
    }
   ],
   "source": [
    "arr_t.ndim"
   ]
  },
  {
   "cell_type": "code",
   "execution_count": 24,
   "id": "14d785e6-723f-48ff-b726-870c352b12a0",
   "metadata": {},
   "outputs": [],
   "source": [
    "mat=np.matrix([1,2,3,4,5])"
   ]
  },
  {
   "cell_type": "code",
   "execution_count": 25,
   "id": "079f59e2-3566-4445-917f-8a4c52041887",
   "metadata": {},
   "outputs": [
    {
     "data": {
      "text/plain": [
       "matrix([[1, 2, 3, 4, 5]])"
      ]
     },
     "execution_count": 25,
     "metadata": {},
     "output_type": "execute_result"
    }
   ],
   "source": [
    "mat"
   ]
  },
  {
   "cell_type": "code",
   "execution_count": 26,
   "id": "be31fbdf-0fc0-4192-91b7-2aba3ab9efdd",
   "metadata": {},
   "outputs": [
    {
     "data": {
      "text/plain": [
       "2"
      ]
     },
     "execution_count": 26,
     "metadata": {},
     "output_type": "execute_result"
    }
   ],
   "source": [
    "mat.ndim"
   ]
  },
  {
   "cell_type": "code",
   "execution_count": 27,
   "id": "835d8c6e-c516-4f0b-b808-2bb8292ee8b5",
   "metadata": {},
   "outputs": [
    {
     "data": {
      "text/plain": [
       "numpy.matrix"
      ]
     },
     "execution_count": 27,
     "metadata": {},
     "output_type": "execute_result"
    }
   ],
   "source": [
    "type(mat)"
   ]
  },
  {
   "cell_type": "code",
   "execution_count": 28,
   "id": "e5296a6f-2116-4c19-ad57-7de4d26f2b9e",
   "metadata": {},
   "outputs": [],
   "source": [
    "arr3=np.array([[[1,2],[3,4],[5,6],[7,8]]])"
   ]
  },
  {
   "cell_type": "code",
   "execution_count": 29,
   "id": "3b04e0f6-5071-4bdc-900d-d6ea10b856aa",
   "metadata": {},
   "outputs": [
    {
     "data": {
      "text/plain": [
       "array([[[1, 2],\n",
       "        [3, 4],\n",
       "        [5, 6],\n",
       "        [7, 8]]])"
      ]
     },
     "execution_count": 29,
     "metadata": {},
     "output_type": "execute_result"
    }
   ],
   "source": [
    "arr3"
   ]
  },
  {
   "cell_type": "code",
   "execution_count": 33,
   "id": "6d58fff1-db5c-45f7-906a-5a9227c0bda7",
   "metadata": {},
   "outputs": [
    {
     "data": {
      "text/plain": [
       "3"
      ]
     },
     "execution_count": 33,
     "metadata": {},
     "output_type": "execute_result"
    }
   ],
   "source": [
    "arr3.ndim"
   ]
  },
  {
   "cell_type": "code",
   "execution_count": 34,
   "id": "ef165e65-5b4d-4a31-b685-46d29fde9943",
   "metadata": {},
   "outputs": [],
   "source": [
    "t=([1,2,3,4],[5,6,7,8])"
   ]
  },
  {
   "cell_type": "code",
   "execution_count": 35,
   "id": "afdb5950-73aa-4e6f-a082-8008aa5814c2",
   "metadata": {},
   "outputs": [
    {
     "data": {
      "text/plain": [
       "tuple"
      ]
     },
     "execution_count": 35,
     "metadata": {},
     "output_type": "execute_result"
    }
   ],
   "source": [
    "type(t)"
   ]
  },
  {
   "cell_type": "code",
   "execution_count": 39,
   "id": "ba5fbcb8-ff4d-4240-beda-fb911f96fd02",
   "metadata": {},
   "outputs": [],
   "source": [
    "arr4=np.array(t)"
   ]
  },
  {
   "cell_type": "code",
   "execution_count": 40,
   "id": "a2eda6ed-dbbf-4dfc-9e18-ea1bd307d39b",
   "metadata": {},
   "outputs": [
    {
     "data": {
      "text/plain": [
       "array([[1, 2, 3, 4],\n",
       "       [5, 6, 7, 8]])"
      ]
     },
     "execution_count": 40,
     "metadata": {},
     "output_type": "execute_result"
    }
   ],
   "source": [
    "arr4"
   ]
  },
  {
   "cell_type": "code",
   "execution_count": 41,
   "id": "25fab1a7-4ff9-4b23-bffb-a7dac64af6cb",
   "metadata": {},
   "outputs": [
    {
     "data": {
      "text/plain": [
       "1"
      ]
     },
     "execution_count": 41,
     "metadata": {},
     "output_type": "execute_result"
    }
   ],
   "source": [
    "arr[0]"
   ]
  },
  {
   "cell_type": "code",
   "execution_count": 44,
   "id": "ac3a844a-73ba-41c9-9883-00acb4ac28a4",
   "metadata": {},
   "outputs": [
    {
     "data": {
      "text/plain": [
       "4"
      ]
     },
     "execution_count": 44,
     "metadata": {},
     "output_type": "execute_result"
    }
   ],
   "source": [
    "arr4[0][3]"
   ]
  },
  {
   "cell_type": "code",
   "execution_count": 45,
   "id": "f5cb852c-6373-4c4d-ab14-7476ca5d1a08",
   "metadata": {},
   "outputs": [
    {
     "data": {
      "text/plain": [
       "array([1, 2, 3, 4, 5])"
      ]
     },
     "execution_count": 45,
     "metadata": {},
     "output_type": "execute_result"
    }
   ],
   "source": [
    "arr"
   ]
  },
  {
   "cell_type": "code",
   "execution_count": 46,
   "id": "94a8e6ba-4716-4032-889b-f364b8e9f4ff",
   "metadata": {},
   "outputs": [
    {
     "data": {
      "text/plain": [
       "3"
      ]
     },
     "execution_count": 46,
     "metadata": {},
     "output_type": "execute_result"
    }
   ],
   "source": [
    "arr[2]"
   ]
  },
  {
   "cell_type": "code",
   "execution_count": 47,
   "id": "2535a75b-c555-4d41-be20-1fce665fc2a4",
   "metadata": {},
   "outputs": [],
   "source": [
    "arr[2]=200"
   ]
  },
  {
   "cell_type": "code",
   "execution_count": 48,
   "id": "c098be4b-f6f7-46b5-a8c5-053104d812ca",
   "metadata": {},
   "outputs": [
    {
     "data": {
      "text/plain": [
       "array([  1,   2, 200,   4,   5])"
      ]
     },
     "execution_count": 48,
     "metadata": {},
     "output_type": "execute_result"
    }
   ],
   "source": [
    "arr"
   ]
  },
  {
   "cell_type": "code",
   "execution_count": 49,
   "id": "6b2f6b9c-25f2-4856-bdf2-09f45ebca6df",
   "metadata": {},
   "outputs": [],
   "source": [
    "a=arr"
   ]
  },
  {
   "cell_type": "code",
   "execution_count": 50,
   "id": "c5473bad-37e9-4969-9308-fe1ee93c79c1",
   "metadata": {},
   "outputs": [
    {
     "data": {
      "text/plain": [
       "1"
      ]
     },
     "execution_count": 50,
     "metadata": {},
     "output_type": "execute_result"
    }
   ],
   "source": [
    "a[0]"
   ]
  },
  {
   "cell_type": "code",
   "execution_count": 51,
   "id": "267c9308-042b-4398-8f2e-088e5a9111ab",
   "metadata": {},
   "outputs": [
    {
     "data": {
      "text/plain": [
       "1"
      ]
     },
     "execution_count": 51,
     "metadata": {},
     "output_type": "execute_result"
    }
   ],
   "source": [
    "arr[0]"
   ]
  },
  {
   "cell_type": "code",
   "execution_count": 53,
   "id": "2b63f7cc-12c5-46c7-a5fd-55447493b8f9",
   "metadata": {},
   "outputs": [],
   "source": [
    "a[0]=100"
   ]
  },
  {
   "cell_type": "code",
   "execution_count": 54,
   "id": "a24749ab-aa39-4728-ae75-46f1b50eae56",
   "metadata": {},
   "outputs": [
    {
     "data": {
      "text/plain": [
       "array([100,   2, 200,   4,   5])"
      ]
     },
     "execution_count": 54,
     "metadata": {},
     "output_type": "execute_result"
    }
   ],
   "source": [
    "a"
   ]
  },
  {
   "cell_type": "code",
   "execution_count": 55,
   "id": "f526327b-0366-488c-aa5f-ae92f26b0b03",
   "metadata": {},
   "outputs": [
    {
     "data": {
      "text/plain": [
       "array([100,   2, 200,   4,   5])"
      ]
     },
     "execution_count": 55,
     "metadata": {},
     "output_type": "execute_result"
    }
   ],
   "source": [
    "arr"
   ]
  },
  {
   "cell_type": "code",
   "execution_count": 56,
   "id": "4f6280a7-2298-4668-b2c1-1c6b340aaa73",
   "metadata": {},
   "outputs": [],
   "source": [
    "b=arr.copy()"
   ]
  },
  {
   "cell_type": "code",
   "execution_count": 57,
   "id": "82d6fe89-f754-4684-9a86-72f579bd50c6",
   "metadata": {},
   "outputs": [
    {
     "data": {
      "text/plain": [
       "array([100,   2, 200,   4,   5])"
      ]
     },
     "execution_count": 57,
     "metadata": {},
     "output_type": "execute_result"
    }
   ],
   "source": [
    "b"
   ]
  },
  {
   "cell_type": "code",
   "execution_count": 58,
   "id": "401dbca7-83e6-48df-a9da-a8430686e8c7",
   "metadata": {},
   "outputs": [
    {
     "data": {
      "text/plain": [
       "array([100,   2, 200,   4,   5])"
      ]
     },
     "execution_count": 58,
     "metadata": {},
     "output_type": "execute_result"
    }
   ],
   "source": [
    "arr"
   ]
  },
  {
   "cell_type": "code",
   "execution_count": 59,
   "id": "995431f6-5bb3-4257-b5d6-21a51b45daca",
   "metadata": {},
   "outputs": [],
   "source": [
    "b[1]=24"
   ]
  },
  {
   "cell_type": "code",
   "execution_count": 60,
   "id": "44cc8b39-552a-43c9-8272-7735a2b7f4fb",
   "metadata": {},
   "outputs": [
    {
     "data": {
      "text/plain": [
       "array([100,  24, 200,   4,   5])"
      ]
     },
     "execution_count": 60,
     "metadata": {},
     "output_type": "execute_result"
    }
   ],
   "source": [
    "b"
   ]
  },
  {
   "cell_type": "code",
   "execution_count": 61,
   "id": "5892456e-c6ff-4ccd-ba2e-a97a3c54b029",
   "metadata": {},
   "outputs": [
    {
     "data": {
      "text/plain": [
       "array([100,   2, 200,   4,   5])"
      ]
     },
     "execution_count": 61,
     "metadata": {},
     "output_type": "execute_result"
    }
   ],
   "source": [
    "arr"
   ]
  },
  {
   "cell_type": "code",
   "execution_count": 62,
   "id": "faec3f6f-69b6-4f54-b043-f62f02521b03",
   "metadata": {},
   "outputs": [],
   "source": [
    "arr5=np.fromfunction(lambda i,j : i==j,(3,3))"
   ]
  },
  {
   "cell_type": "code",
   "execution_count": 63,
   "id": "00e3bbd1-32ef-4269-b179-a4164b22cd0a",
   "metadata": {},
   "outputs": [
    {
     "data": {
      "text/plain": [
       "array([[ True, False, False],\n",
       "       [False,  True, False],\n",
       "       [False, False,  True]])"
      ]
     },
     "execution_count": 63,
     "metadata": {},
     "output_type": "execute_result"
    }
   ],
   "source": [
    "arr5"
   ]
  },
  {
   "cell_type": "code",
   "execution_count": 64,
   "id": "fe57f62e-9860-42fc-8df3-86c563b360d0",
   "metadata": {},
   "outputs": [],
   "source": [
    "def sum(i,j):\n",
    "    return i+j\n",
    "\n",
    "arr6=np.fromfunction(sum,(3,4))"
   ]
  },
  {
   "cell_type": "code",
   "execution_count": 65,
   "id": "27deb816-fcdf-4a95-aa29-af386acdc5a1",
   "metadata": {},
   "outputs": [
    {
     "data": {
      "text/plain": [
       "array([[0., 1., 2., 3.],\n",
       "       [1., 2., 3., 4.],\n",
       "       [2., 3., 4., 5.]])"
      ]
     },
     "execution_count": 65,
     "metadata": {},
     "output_type": "execute_result"
    }
   ],
   "source": [
    "arr6"
   ]
  },
  {
   "cell_type": "code",
   "execution_count": 66,
   "id": "da9e60ea-f52c-4560-af08-b1161dc7dacc",
   "metadata": {},
   "outputs": [
    {
     "data": {
      "text/plain": [
       "2"
      ]
     },
     "execution_count": 66,
     "metadata": {},
     "output_type": "execute_result"
    }
   ],
   "source": [
    "arr6.ndim"
   ]
  },
  {
   "cell_type": "code",
   "execution_count": 67,
   "id": "3826cd3a-f9cd-48bd-9c19-c9f9d234a657",
   "metadata": {},
   "outputs": [
    {
     "data": {
      "text/plain": [
       "(3, 4)"
      ]
     },
     "execution_count": 67,
     "metadata": {},
     "output_type": "execute_result"
    }
   ],
   "source": [
    "arr6.shape"
   ]
  },
  {
   "cell_type": "code",
   "execution_count": 68,
   "id": "c51c19e2-2660-4d85-8abb-935211a21f3b",
   "metadata": {},
   "outputs": [
    {
     "data": {
      "text/plain": [
       "12"
      ]
     },
     "execution_count": 68,
     "metadata": {},
     "output_type": "execute_result"
    }
   ],
   "source": [
    "arr6.size"
   ]
  },
  {
   "cell_type": "code",
   "execution_count": 70,
   "id": "11f46a26-a2f2-4e34-91dd-6894dde52a08",
   "metadata": {},
   "outputs": [
    {
     "name": "stdout",
     "output_type": "stream",
     "text": [
      "0\n",
      "1\n",
      "2\n",
      "3\n",
      "4\n"
     ]
    }
   ],
   "source": [
    "for i in range (5):\n",
    "    print(i)\n"
   ]
  },
  {
   "cell_type": "code",
   "execution_count": 73,
   "id": "cd604645-a565-431b-8809-eddb012b3551",
   "metadata": {},
   "outputs": [
    {
     "data": {
      "text/plain": [
       "[0, 1, 2, 3, 4]"
      ]
     },
     "execution_count": 73,
     "metadata": {},
     "output_type": "execute_result"
    }
   ],
   "source": [
    "[i for i in range(5)]"
   ]
  },
  {
   "cell_type": "code",
   "execution_count": 74,
   "id": "0a825c01-9b42-40fe-a1f9-e8ab7f1c7e84",
   "metadata": {},
   "outputs": [
    {
     "data": {
      "text/plain": [
       "<generator object <genexpr> at 0x000001AD6C730580>"
      ]
     },
     "execution_count": 74,
     "metadata": {},
     "output_type": "execute_result"
    }
   ],
   "source": [
    "(i for i in range(5))"
   ]
  },
  {
   "cell_type": "code",
   "execution_count": 75,
   "id": "a4dc0af5-2ef8-4a22-b4d2-05047ae2e3a0",
   "metadata": {},
   "outputs": [
    {
     "data": {
      "text/plain": [
       "[0, 1, 2, 3, 4]"
      ]
     },
     "execution_count": 75,
     "metadata": {},
     "output_type": "execute_result"
    }
   ],
   "source": [
    "list((i for i in range(5)))"
   ]
  },
  {
   "cell_type": "code",
   "execution_count": 76,
   "id": "3068f615-2e35-4c60-b343-7c40d93ca440",
   "metadata": {},
   "outputs": [],
   "source": [
    "iterator = (i for i in range(5))"
   ]
  },
  {
   "cell_type": "code",
   "execution_count": 77,
   "id": "7ccd1416-48d0-479f-a427-f430854033f9",
   "metadata": {},
   "outputs": [
    {
     "data": {
      "text/plain": [
       "<generator object <genexpr> at 0x000001AD6C730700>"
      ]
     },
     "execution_count": 77,
     "metadata": {},
     "output_type": "execute_result"
    }
   ],
   "source": [
    "iterator"
   ]
  },
  {
   "cell_type": "code",
   "execution_count": 79,
   "id": "36e9bb4e-8261-47c7-95a4-3b089af1c878",
   "metadata": {},
   "outputs": [
    {
     "data": {
      "text/plain": [
       "0"
      ]
     },
     "execution_count": 79,
     "metadata": {},
     "output_type": "execute_result"
    }
   ],
   "source": [
    "next(iterator)"
   ]
  },
  {
   "cell_type": "code",
   "execution_count": 80,
   "id": "c26dd2b8-ffac-422c-b226-63dd228252ef",
   "metadata": {},
   "outputs": [
    {
     "data": {
      "text/plain": [
       "array([1, 2, 3, 4])"
      ]
     },
     "execution_count": 80,
     "metadata": {},
     "output_type": "execute_result"
    }
   ],
   "source": [
    "np.fromiter(iterator,int)"
   ]
  },
  {
   "cell_type": "code",
   "execution_count": 86,
   "id": "8d81aa7d-aefc-4c0f-8916-df4aa4b41672",
   "metadata": {},
   "outputs": [
    {
     "data": {
      "text/plain": [
       "array([2., 3., 4.])"
      ]
     },
     "execution_count": 86,
     "metadata": {},
     "output_type": "execute_result"
    }
   ],
   "source": [
    "np.fromstring('2 3 4', sep=\" \")"
   ]
  },
  {
   "cell_type": "code",
   "execution_count": 87,
   "id": "6a8318c9-2fbb-4965-b1fa-c40752ca3c78",
   "metadata": {},
   "outputs": [
    {
     "data": {
      "text/plain": [
       "array([5, 6, 7])"
      ]
     },
     "execution_count": 87,
     "metadata": {},
     "output_type": "execute_result"
    }
   ],
   "source": [
    "np.fromstring('5 6 7', sep=\" \", dtype=int)"
   ]
  },
  {
   "cell_type": "code",
   "execution_count": 89,
   "id": "b2df2616-f4c8-43e2-8235-878539e959bd",
   "metadata": {},
   "outputs": [
    {
     "data": {
      "text/plain": [
       "['Ajay', 'Bijay', 'Sanjay']"
      ]
     },
     "execution_count": 89,
     "metadata": {},
     "output_type": "execute_result"
    }
   ],
   "source": [
    "string = \"Ajay Bijay Sanjay\"\n",
    "string.split(\" \")"
   ]
  },
  {
   "cell_type": "code",
   "execution_count": 91,
   "id": "56913afe-5870-45f9-94e4-46e3dd83925f",
   "metadata": {},
   "outputs": [
    {
     "data": {
      "text/plain": [
       "array(['Ajay', 'Bijay', 'Sanjay'], dtype='<U6')"
      ]
     },
     "execution_count": 91,
     "metadata": {},
     "output_type": "execute_result"
    }
   ],
   "source": [
    "np.array(string.split(\" \"))"
   ]
  },
  {
   "cell_type": "code",
   "execution_count": 92,
   "id": "677eabd1-e670-4adb-91af-84631d60da46",
   "metadata": {},
   "outputs": [
    {
     "data": {
      "text/plain": [
       "[0, 1, 2, 3, 4, 5, 6, 7, 8, 9]"
      ]
     },
     "execution_count": 92,
     "metadata": {},
     "output_type": "execute_result"
    }
   ],
   "source": [
    "list(range(10))"
   ]
  },
  {
   "cell_type": "code",
   "execution_count": 94,
   "id": "dc559011-6e5d-475a-b543-78c9e19a7fe3",
   "metadata": {},
   "outputs": [
    {
     "data": {
      "text/plain": [
       "array([0, 1, 2, 3, 4, 5, 6, 7, 8, 9])"
      ]
     },
     "execution_count": 94,
     "metadata": {},
     "output_type": "execute_result"
    }
   ],
   "source": [
    "np.arange(0,10)"
   ]
  },
  {
   "cell_type": "code",
   "execution_count": 95,
   "id": "f5962a84-366c-4a4e-820d-4b2e7bcaad04",
   "metadata": {},
   "outputs": [
    {
     "data": {
      "text/plain": [
       "array([1. , 1.1, 1.2, 1.3, 1.4, 1.5, 1.6, 1.7, 1.8, 1.9, 2. , 2.1, 2.2,\n",
       "       2.3, 2.4, 2.5, 2.6, 2.7, 2.8, 2.9, 3. , 3.1, 3.2, 3.3, 3.4, 3.5,\n",
       "       3.6, 3.7, 3.8, 3.9, 4. , 4.1, 4.2, 4.3, 4.4, 4.5, 4.6, 4.7, 4.8,\n",
       "       4.9, 5. , 5.1, 5.2, 5.3, 5.4, 5.5, 5.6, 5.7, 5.8, 5.9, 6. , 6.1,\n",
       "       6.2, 6.3, 6.4, 6.5, 6.6, 6.7, 6.8, 6.9, 7. , 7.1, 7.2, 7.3, 7.4,\n",
       "       7.5, 7.6, 7.7, 7.8, 7.9, 8. , 8.1, 8.2, 8.3, 8.4, 8.5, 8.6, 8.7,\n",
       "       8.8, 8.9, 9. , 9.1, 9.2, 9.3, 9.4, 9.5, 9.6, 9.7, 9.8, 9.9])"
      ]
     },
     "execution_count": 95,
     "metadata": {},
     "output_type": "execute_result"
    }
   ],
   "source": [
    "np.arange(1,10,0.1)"
   ]
  },
  {
   "cell_type": "code",
   "execution_count": 98,
   "id": "68f3465e-260e-4ea8-9d9d-b42d5ac5e529",
   "metadata": {},
   "outputs": [
    {
     "data": {
      "text/plain": [
       "array([1.        , 1.33333333, 1.66666667, 2.        , 2.33333333,\n",
       "       2.66666667, 3.        , 3.33333333, 3.66666667, 4.        ])"
      ]
     },
     "execution_count": 98,
     "metadata": {},
     "output_type": "execute_result"
    }
   ],
   "source": [
    "np.linspace(1,4,10)"
   ]
  },
  {
   "cell_type": "code",
   "execution_count": null,
   "id": "774482c9-4335-45f7-9375-772cb3f6b0f9",
   "metadata": {},
   "outputs": [],
   "source": []
  }
 ],
 "metadata": {
  "kernelspec": {
   "display_name": "Python 3 (ipykernel)",
   "language": "python",
   "name": "python3"
  },
  "language_info": {
   "codemirror_mode": {
    "name": "ipython",
    "version": 3
   },
   "file_extension": ".py",
   "mimetype": "text/x-python",
   "name": "python",
   "nbconvert_exporter": "python",
   "pygments_lexer": "ipython3",
   "version": "3.12.4"
  }
 },
 "nbformat": 4,
 "nbformat_minor": 5
}
